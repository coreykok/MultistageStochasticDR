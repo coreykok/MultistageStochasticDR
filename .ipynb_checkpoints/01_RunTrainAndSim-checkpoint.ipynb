{
 "cells": [
  {
   "cell_type": "code",
   "execution_count": 1,
   "metadata": {},
   "outputs": [
    {
     "name": "stderr",
     "output_type": "stream",
     "text": [
      "┌ Info: Recompiling stale cache file C:\\Users\\corkok\\.julia\\compiled\\v1.1\\SDDP\\rTTnU.ji for SDDP [f4570300-c277-11e8-125c-4912f86ce65d]\n",
      "└ @ Base loading.jl:1184\n",
      "┌ Info: Recompiling stale cache file C:\\Users\\corkok\\.julia\\compiled\\v1.1\\Ipopt\\yMQMo.ji for Ipopt [b6b21f68-93f8-5de0-b562-5493be1d77c9]\n",
      "└ @ Base loading.jl:1184\n",
      "┌ Info: Recompiling stale cache file C:\\Users\\corkok\\.julia\\compiled\\v1.1\\GLPK\\r6CoY.ji for GLPK [60bf3e95-4087-53dc-ae20-288a0d20c6a6]\n",
      "└ @ Base loading.jl:1184\n",
      "┌ Info: Recompiling stale cache file C:\\Users\\corkok\\.julia\\compiled\\v1.1\\CSV\\HHBkp.ji for CSV [336ed68f-0bac-5ca0-87d4-7b16caf5d00b]\n",
      "└ @ Base loading.jl:1184\n",
      "┌ Info: Recompiling stale cache file C:\\Users\\corkok\\.julia\\compiled\\v1.1\\RCall\\8GFyb.ji for RCall [6f49c342-dc21-5d91-9882-a32aef131414]\n",
      "└ @ Base loading.jl:1184\n"
     ]
    },
    {
     "name": "stdout",
     "output_type": "stream",
     "text": [
      "\n",
      "R version 3.6.1 (2019-07-05) -- \"Action of the Toes\"\n",
      "Copyright (C) 2019 The R Foundation for Statistical Computing\n",
      "Platform: x86_64-w64-mingw32/x64 (64-bit)\n",
      "\n",
      "R is free software and comes with ABSOLUTELY NO WARRANTY.\n",
      "You are welcome to redistribute it under certain conditions.\n",
      "Type 'license()' or 'licence()' for distribution details.\n",
      "\n",
      "R is a collaborative project with many contributors.\n",
      "Type 'contributors()' for more information and\n",
      "'citation()' on how to cite R or R packages in publications.\n",
      "\n",
      "Type 'demo()' for some demos, 'help()' for on-line help, or\n",
      "'help.start()' for an HTML browser interface to help.\n",
      "Type 'q()' to quit R.\n",
      "\n"
     ]
    },
    {
     "name": "stderr",
     "output_type": "stream",
     "text": [
      "┌ Info: Recompiling stale cache file C:\\Users\\corkok\\.julia\\compiled\\v1.1\\Gurobi\\do9v6.ji for Gurobi [2e9cd046-0924-5485-92f1-d5272153d98b]\n",
      "└ @ Base loading.jl:1184\n"
     ]
    },
    {
     "name": "stdout",
     "output_type": "stream",
     "text": [
      "Academic license - for non-commercial use only\n"
     ]
    },
    {
     "data": {
      "text/plain": [
       "6-element Array{Int64,1}:\n",
       " 1\n",
       " 2\n",
       " 3\n",
       " 4\n",
       " 5\n",
       " 6"
      ]
     },
     "execution_count": 1,
     "metadata": {},
     "output_type": "execute_result"
    }
   ],
   "source": [
    "#  Copyright 2019, Corey Kok This Source Code Form is subject to the terms of\n",
    "#  the Mozilla Public License, v. 2.0. If a copy of the MPL was not distributed\n",
    "#  with this file, You can obtain one at http://mozilla.org/MPL/2.0/.\n",
    "#  #############################################################################\n",
    "\n",
    "using SDDP, JuMP, Ipopt, GLPK, CSV, DataFrames, RCall, Random, Gurobi\n",
    "@rlibrary ggplot2\n",
    "gurobi_env = Gurobi.Env()\n",
    "\n",
    "function string_as_varname(s::String,v::Any)\n",
    "         s=symbol(s)\n",
    "         @eval (($s) = ($v))\n",
    "end\n",
    "\n",
    "# Set of conventional units\n",
    "CONVENTIONAL = [:i1]\n",
    "DEFERRABLE = [:j1]\n",
    "TIMES = [1, 2, 3, 4, 5, 6]"
   ]
  },
  {
   "cell_type": "code",
   "execution_count": 24,
   "metadata": {},
   "outputs": [
    {
     "data": {
      "text/plain": [
       "Dict{Int64,Float64} with 6 entries:\n",
       "  4 => 1.0\n",
       "  2 => 1.0\n",
       "  3 => 1.0\n",
       "  5 => 1.0\n",
       "  6 => 4.0\n",
       "  1 => 1.0"
      ]
     },
     "execution_count": 24,
     "metadata": {},
     "output_type": "execute_result"
    }
   ],
   "source": [
    "include(\"02_LoadInput.jl\")\n",
    "Demand"
   ]
  },
  {
   "cell_type": "code",
   "execution_count": 32,
   "metadata": {},
   "outputs": [
    {
     "data": {
      "text/html": [
       "<table class=\"data-frame\"><thead><tr><th></th><th>Seed</th><th>SimNum</th><th>Stage</th><th>Scenario</th><th>Model</th><th>Cost</th></tr><tr><th></th><th>Int64</th><th>Int64</th><th>Int64</th><th>Float64</th><th>String</th><th>Float64</th></tr></thead><tbody><p>0 rows × 6 columns</p></tbody></table>"
      ],
      "text/latex": [
       "\\begin{tabular}{r|cccccc}\n",
       "\t& Seed & SimNum & Stage & Scenario & Model & Cost\\\\\n",
       "\t\\hline\n",
       "\t& Int64 & Int64 & Int64 & Float64 & String & Float64\\\\\n",
       "\t\\hline\n",
       "\\end{tabular}\n"
      ],
      "text/plain": [
       "0×6 DataFrame\n"
      ]
     },
     "execution_count": 32,
     "metadata": {},
     "output_type": "execute_result"
    }
   ],
   "source": [
    "# SET UP DATA FRAMES FOR OUTPUT\n",
    "df_Input = DataFrame(\n",
    "               Seed = Int[],\n",
    "               SimNum = Int[],\n",
    "               Stage = Int[],\n",
    "               Scenario = Float64[],\n",
    "               Demand = Float64[],\n",
    "               Wind = Float64[],\n",
    "               c_DA = Float64[],\n",
    "               Model = String[])\n",
    "df_Solution = DataFrame(\n",
    "                Seed = Int[],\n",
    "                SimNum = Int[],\n",
    "                Stage = Int[],\n",
    "                Scenario = Float64[],\n",
    "                Unit = Symbol[],\n",
    "                C_Con_DA = Float64[],\n",
    "                C_Con_up = Float64[],\n",
    "                C_Con_dn = Float64[],\n",
    "                c_DA = Float64[],\n",
    "                c_up = Float64[],\n",
    "                c_dn = Float64[],\n",
    "                cost_DA = Float64[],\n",
    "                cost_up = Float64[],\n",
    "                cost_dn = Float64[],\n",
    "                C_DL_dn = Float64[],\n",
    "                C_DL_ct = Float64[],\n",
    "                d_dn = Float64[],\n",
    "                d_ct = Float64[],\n",
    "                cost_d_dn = Float64[],\n",
    "                cost_d_ct = Float64[],\n",
    "                Model = String[])\n",
    "df_Objective = DataFrame(\n",
    "                Seed = Int[],\n",
    "                SimNum = Int[],\n",
    "                Stage = Int[],\n",
    "                Scenario = Float64[],\n",
    "                Model = String[],\n",
    "                Cost = Float64[])"
   ]
  },
  {
   "cell_type": "code",
   "execution_count": 33,
   "metadata": {},
   "outputs": [
    {
     "ename": "LoadError",
     "evalue": "syntax: { } vector syntax is discontinued",
     "output_type": "error",
     "traceback": [
      "syntax: { } vector syntax is discontinued",
      "",
      "Stacktrace:",
      " [1] include at .\\boot.jl:326 [inlined]",
      " [2] include_relative(::Module, ::String) at .\\loading.jl:1038",
      " [3] include(::Module, ::String) at .\\sysimg.jl:29",
      " [4] include(::String) at .\\client.jl:403",
      " [5] top-level scope at In[33]:6",
      " [6] eval at .\\boot.jl:328 [inlined]",
      " [7] eval(::Expr) at .\\client.jl:404",
      " [8] top-level scope at In[33]:5"
     ]
    }
   ],
   "source": [
    "include(\"03_ModelDefinition.jl\")\n",
    "# TRAIN MODEL\n",
    "for r = 1:length(rand_ST)\n",
    "    for rsk = 1:length(Risk_name)\n",
    "        Random.seed!(rand_ST[r])\n",
    "        eval(quote\n",
    "            $(model_list[rsk]) = DefineDRPolicy()\n",
    "            SDDP.train($(model_list[rsk]),\n",
    "                risk_measure = $(Risk_list[rsk]),\n",
    "                cut_type = SDDP.SINGLE_CUT,\n",
    "                stopping_rules = [SDDP.BoundStalling(10, 1e-4)],\n",
    "                #stopping_rules = [SDDP.Statistical(; num_replications = 10, iteration_period = 100, z_score = 1.96, verbose = true)],\n",
    "                run_numerical_stability_report = false\n",
    "                )\n",
    "        end)\n",
    "        Random.seed!(rand_SS[r])\n",
    "        eval(quote\n",
    "        sampling_scheme = SDDP.OutOfSampleMonteCarlo(\n",
    "            $(model_list[rsk]), use_insample_transition = true\n",
    "            ) do t\n",
    "                probability =  [1/4, 1/4, 1/4, 1/4]\n",
    "                noise_terms = [SDDP.Noise((Wind = ω.Wind, fuel_multiplier = ω.fuel_multiplier),p) for (ω,p) in zip(Ω,probability)]\n",
    "                return noise_terms\n",
    "            end\n",
    "            $(sim_list[rsk]) = SDDP.simulate($(model_list[rsk]), SIM_NUM, [:c_up, :c_dn, :d_dn, :d_ct, :W], sampling_scheme = sampling_scheme)\n",
    "        end)\n",
    "    # OUTPUT DATA\n",
    "        eval(quote\n",
    "            temp_sim = $(sim_list[rsk])\n",
    "        end)\n",
    "        for sim = 1:SIM_NUM\n",
    "            for t = TIMES\n",
    "                df_Temp = DataFrame(\n",
    "                    Seed = r,\n",
    "                    SimNum = sim,\n",
    "                    Stage = t,\n",
    "                    Scenario = temp_sim[sim][t][:noise_term].Wind,\n",
    "                    Model = Risk_name[rsk],\n",
    "                    Cost = temp_sim[sim][t][:stage_objective])\n",
    "                    append!(df_Objective, df_Temp)\n",
    "                end\n",
    "            end\n",
    "        for sim = 1:SIM_NUM\n",
    "            for t = TIMES\n",
    "                df_Temp = DataFrame(\n",
    "                    Seed = r,\n",
    "                    SimNum = sim,\n",
    "                    Stage = t,\n",
    "                    Scenario = temp_sim[sim][t][:noise_term].Wind,\n",
    "                    Demand = Demand[t],\n",
    "                    Wind = temp_sim[sim][t][:W],\n",
    "                    c_DA = 0.0,\n",
    "                    Model = Risk_name[rsk])\n",
    "                append!(df_Input, df_Temp)\n",
    "            end\n",
    "        end\n",
    "        for sim = 1:SIM_NUM\n",
    "            for t = TIMES\n",
    "                for i = CONVENTIONAL\n",
    "                    df_Temp = DataFrame(\n",
    "                        Seed = r,\n",
    "                        SimNum = sim,\n",
    "                        Stage = t,\n",
    "                        Scenario = temp_sim[sim][t][:noise_term].Wind,\n",
    "                        Unit = i,\n",
    "                        C_Con_DA = C_Con_DA[i, t],\n",
    "                        C_Con_up = C_Con_up[i, t],\n",
    "                        C_Con_dn = C_Con_dn[i, t],\n",
    "                        c_DA = 0,\n",
    "                        c_up = temp_sim[sim][t][:c_up][i],\n",
    "                        c_dn = temp_sim[sim][t][:c_dn][i],\n",
    "                        cost_DA = C_Con_DA[i, t] * 0,\n",
    "                        cost_up = C_Con_up[i, t] * temp_sim[sim][t][:c_up][i],\n",
    "                        cost_dn = C_Con_dn[i, t] * temp_sim[sim][t][:c_dn][i],\n",
    "                        C_DL_dn = 0.0,\n",
    "                        C_DL_ct = 0.0,\n",
    "                        d_dn = 0.0,\n",
    "                        d_ct = 0.0,\n",
    "                        cost_d_dn = 0.0,\n",
    "                        cost_d_ct = 0.0,\n",
    "                        Model = Risk_name[rsk])\n",
    "                    append!(df_Solution, df_Temp)\n",
    "                end\n",
    "                for j = DEFERRABLE\n",
    "                    df_Temp = DataFrame(\n",
    "                        Seed = r,\n",
    "                        SimNum = sim,\n",
    "                        Stage = t,\n",
    "                        Scenario = temp_sim[sim][t][:noise_term].Wind,\n",
    "                        Unit = j,\n",
    "                        C_Con_DA = 0.0,\n",
    "                        C_Con_up = 0.0,\n",
    "                        C_Con_dn = 0.0,\n",
    "                        c_DA = 0.0,\n",
    "                        c_up = 0.0,\n",
    "                        c_dn = 0.0,\n",
    "                        cost_DA = 0.0,\n",
    "                        cost_up = 0.0,\n",
    "                        cost_dn = 0.0,\n",
    "                        C_DL_dn = C_DL_dn[j, t],\n",
    "                        C_DL_ct = C_DL_ct[j, t],\n",
    "                        d_dn = temp_sim[sim][t][:d_dn][j].out,\n",
    "                        d_ct = temp_sim[sim][t][:d_ct][j],\n",
    "                        cost_d_dn = C_DL_dn[j, t] * temp_sim[sim][t][:d_dn][j].out,\n",
    "                        cost_d_ct = C_DL_ct[j, t] * temp_sim[sim][t][:d_ct][j],\n",
    "                        Model = Risk_name[rsk])\n",
    "                    append!(df_Solution, df_Temp)\n",
    "                end\n",
    "            end\n",
    "        end\n",
    "        print(\" Iteration: \")\n",
    "        print(r)\n",
    "        print(\" - Model: \")\n",
    "        print(rsk)\n",
    "        print(\"\\n\")\n",
    "    end\n",
    "end\n",
    "\n",
    "\n",
    "\n",
    "\n",
    "\n",
    "CSV.write(\"D:/ConvMultiStage/Objective_oos_sc.csv\", DataFrame(df_Objective), writeheader=true)\n",
    "CSV.write(\"D:/ConvMultiStage/Input_oos_sc.csv\", DataFrame(df_Input), writeheader=true)\n",
    "CSV.write(\"D:/ConvMultiStage/Solution_oos_sc.csv\", DataFrame(df_Solution), writeheader=true)\n",
    "print(\" Done\")\n",
    "\n",
    "# ggplot(df, es(x=:SimNum,y=:E_DL, colour = :Stage)) +\n",
    "# geom_point() + facet_grid(R\"~Stage\")\n",
    "# ggsave(file=\"EnergyState.pdf\")\n",
    "# ggplot(df, aes(x=:SimNum,y=:Cost, fill = :Stage)) +\n",
    "# geom_bar(stat=\"identity\")\n",
    "# ggsave(file=\"Cost.pdf\")\n",
    "# ggplot(df, aes(x=:Stage,y=:Deficit, colour = :Stage)) +\n",
    "# geom_point() + facet_grid(R\"~SimNum\")\n",
    "# ggsave(file=\"NetRegReq.pdf\")\n",
    "# ggplot(df, aes(x=:SimNum,y=:r_DL_ct, colour = :Stage)) +\n",
    "# geom_point() + facet_grid(R\"~Stage\")\n",
    "# ggsave(file=\"DLCurtailment.pdf\")\n",
    "# ggplot(df, aes(x=:SimNum,y=:r_DL_dn, colour = :Stage)) +\n",
    "# geom_point() + facet_grid(R\"~Stage\")\n",
    "# ggsave(file=\"DLConsumption.pdf\")\n"
   ]
  },
  {
   "cell_type": "code",
   "execution_count": null,
   "metadata": {},
   "outputs": [],
   "source": []
  }
 ],
 "metadata": {
  "kernelspec": {
   "display_name": "Julia 1.1.0",
   "language": "julia",
   "name": "julia-1.1"
  },
  "language_info": {
   "file_extension": ".jl",
   "mimetype": "application/julia",
   "name": "julia",
   "version": "1.1.0"
  }
 },
 "nbformat": 4,
 "nbformat_minor": 4
}
