#  Copyright 2019, Corey Kok This Source Code Form is subject to the terms of
#  the Mozilla Public License, v. 2.0. If a copy of the MPL was not distributed
#  with this file, You can obtain one at http://mozilla.org/MPL/2.0/.
#  #############################################################################

using SDDP, JuMP, Ipopt, GLPK, CSV, DataFrames, RCall, Random, Gurobi
@rlibrary ggplot2
gurobi_env = Gurobi.Env()

function string_as_varname(s::String,v::Any)
         s=symbol(s)
         @eval (($s) = ($v))
end

# Set of conventional units
CONVENTIONAL = [:i1]
DEFERRABLE = [:j1]
TIMES = [1, 2, 3, 4, 5, 6]




# SET UP DATA FRAMES FOR OUTPUT
df_Input = DataFrame(
               Seed = Int[],
               SimNum = Int[],
               Stage = Int[],
               Scenario = Float64[],
               Demand = Float64[],
               Wind = Float64[],
               c_DA = Float64[],
               Model = String[])
df_Solution = DataFrame(
                Seed = Int[],
                SimNum = Int[],
                Stage = Int[],
                Scenario = Float64[],
                Unit = Symbol[],
                C_Con_DA = Float64[],
                C_Con_up = Float64[],
                C_Con_dn = Float64[],
                c_DA = Float64[],
                c_up = Float64[],
                c_dn = Float64[],
                cost_DA = Float64[],
                cost_up = Float64[],
                cost_dn = Float64[],
                C_DL_dn = Float64[],
                C_DL_ct = Float64[],
                d_dn = Float64[],
                d_ct = Float64[],
                cost_d_dn = Float64[],
                cost_d_ct = Float64[],
                Model = String[])
df_Objective = DataFrame(
                Seed = Int[],
                SimNum = Int[],
                Stage = Int[],
                Scenario = Float64[],
                Model = String[],
                Cost = Float64[])

# TRAIN MODEL
for r = 1:length(rand_ST)
    for rsk = 1:length(Risk_name)
        Random.seed!(rand_ST[r])
        eval(quote
            $(model_list[rsk]) = nothing
            $(model_list[rsk]) = SDDP.LinearPolicyGraph(
                        stages = 6,
                        sense = :Min,
                        lower_bound = 0,
                        optimizer = with_optimizer(Gurobi.Optimizer, gurobi_env, OutputFlag = 0)
                    ) do subproblem, t

                # Control Variables
                @variables(subproblem, begin
                    0 <= d_ct[j = DEFERRABLE]    <= P_DL_ct[j, t]
                    0 <= c_up[i = CONVENTIONAL]  <= P_Con_up[i, t]
                    0 <= c_dn[i = CONVENTIONAL]  <= P_Con_dn[i, t]
                    W
                end)
                @variable(subproblem,
                    0 <= e_DL[j = DEFERRABLE] <= E_Cap[j], SDDP.State, initial_value = 0.0
                )
                @variable(subproblem,
                    0 <= d_dn[j = DEFERRABLE] <= P_DL_dn[j, t], SDDP.State, initial_value = 0.0
                )
                @constraint(subproblem,
                    sum(c_up[i] - c_dn[i] for i in CONVENTIONAL) -
                    sum(d_dn[j].out for j in DEFERRABLE)  == Demand[t] - W
                )
                @constraints(subproblem, begin
                    [j = DEFERRABLE], e_DL[j].out >= E_Req[j, t]
                    [j = DEFERRABLE], e_DL[j].out == e_DL[j].in + d_dn[j].out + d_ct[j]
                    [j = DEFERRABLE], d_dn[j].out - d_dn[j].in <= R_up[j,t]
                    [j = DEFERRABLE], d_dn[j].in - d_dn[j].out <= R_dn[j,t]
                end)

                probability = [1/4, 1/4, 1/4, 1/4]

                SDDP.parameterize(subproblem, Ω, probability) do ω
                    JuMP.fix(W, ω.Wind)
                    @stageobjective(subproblem,
                        sum(C_Con_up[i, t] * c_up[i] + C_Con_dn[i, t] * c_dn[i] for i in CONVENTIONAL) +
                        sum(C_DL_dn[j, t] * d_dn[j].out + C_DL_ct[j, t] * d_ct[j] for j in DEFERRABLE)
                    )
                end
            end
            SDDP.train($(model_list[rsk]),
                risk_measure = $(Risk_list[rsk]),
                cut_type = SDDP.SINGLE_CUT,
                stopping_rules = [SDDP.BoundStalling(10, 1e-4)],
                #stopping_rules = [SDDP.Statistical(; num_replications = 10, iteration_period = 100, z_score = 1.96, verbose = true)],
                run_numerical_stability_report = false
                )
        end)
        Random.seed!(rand_SS[r])
        Ω = [
            (Wind = 1.0, fuel_multiplier = 1),
            (Wind = 2.0, fuel_multiplier = 1),
            (Wind = 3.0, fuel_multiplier = 1),
            (Wind = 4.0, fuel_multiplier = 1),
        ]
        eval(quote
        sampling_scheme = SDDP.OutOfSampleMonteCarlo(
            $(model_list[rsk]), use_insample_transition = true
            ) do t
                probability =  [1/4, 1/4, 1/4, 1/4]
                noise_terms = [SDDP.Noise((Wind = ω.Wind, fuel_multiplier = ω.fuel_multiplier),p) for (ω,p) in zip(Ω,probability)]
                return noise_terms
            end
            $(sim_list[rsk]) = SDDP.simulate($(model_list[rsk]), SIM_NUM, [:c_up, :c_dn, :d_dn, :d_ct, :W], sampling_scheme = sampling_scheme)
        end)
    # OUTPUT DATA
        eval(quote
            temp_sim = $(sim_list[rsk])
        end)
        for sim = 1:SIM_NUM
            for t = TIMES
                df_Temp = DataFrame(
                    Seed = r,
                    SimNum = sim,
                    Stage = t,
                    Scenario = temp_sim[sim][t][:noise_term].Wind,
                    Model = Risk_name[rsk],
                    Cost = temp_sim[sim][t][:stage_objective])
                    append!(df_Objective, df_Temp)
                end
            end
        for sim = 1:SIM_NUM
            for t = TIMES
                df_Temp = DataFrame(
                    Seed = r,
                    SimNum = sim,
                    Stage = t,
                    Scenario = temp_sim[sim][t][:noise_term].Wind,
                    Demand = Demand[t],
                    Wind = temp_sim[sim][t][:W],
                    c_DA = 0.0,
                    Model = Risk_name[rsk])
                append!(df_Input, df_Temp)
            end
        end
        for sim = 1:SIM_NUM
            for t = TIMES
                for i = CONVENTIONAL
                    df_Temp = DataFrame(
                        Seed = r,
                        SimNum = sim,
                        Stage = t,
                        Scenario = temp_sim[sim][t][:noise_term].Wind,
                        Unit = i,
                        C_Con_DA = C_Con_DA[i, t],
                        C_Con_up = C_Con_up[i, t],
                        C_Con_dn = C_Con_dn[i, t],
                        c_DA = 0,
                        c_up = temp_sim[sim][t][:c_up][i],
                        c_dn = temp_sim[sim][t][:c_dn][i],
                        cost_DA = C_Con_DA[i, t] * 0,
                        cost_up = C_Con_up[i, t] * temp_sim[sim][t][:c_up][i],
                        cost_dn = C_Con_dn[i, t] * temp_sim[sim][t][:c_dn][i],
                        C_DL_dn = 0.0,
                        C_DL_ct = 0.0,
                        d_dn = 0.0,
                        d_ct = 0.0,
                        cost_d_dn = 0.0,
                        cost_d_ct = 0.0,
                        Model = Risk_name[rsk])
                    append!(df_Solution, df_Temp)
                end
                for j = DEFERRABLE
                    df_Temp = DataFrame(
                        Seed = r,
                        SimNum = sim,
                        Stage = t,
                        Scenario = temp_sim[sim][t][:noise_term].Wind,
                        Unit = j,
                        C_Con_DA = 0.0,
                        C_Con_up = 0.0,
                        C_Con_dn = 0.0,
                        c_DA = 0.0,
                        c_up = 0.0,
                        c_dn = 0.0,
                        cost_DA = 0.0,
                        cost_up = 0.0,
                        cost_dn = 0.0,
                        C_DL_dn = C_DL_dn[j, t],
                        C_DL_ct = C_DL_ct[j, t],
                        d_dn = temp_sim[sim][t][:d_dn][j].out,
                        d_ct = temp_sim[sim][t][:d_ct][j],
                        cost_d_dn = C_DL_dn[j, t] * temp_sim[sim][t][:d_dn][j].out,
                        cost_d_ct = C_DL_ct[j, t] * temp_sim[sim][t][:d_ct][j],
                        Model = Risk_name[rsk])
                    append!(df_Solution, df_Temp)
                end
            end
        end
        print(" Iteration: ")
        print(r)
        print(" - Model: ")
        print(rsk)
        print("\n")
    end
end





CSV.write("D:/ConvMultiStage/Objective_oos_sc.csv", DataFrame(df_Objective), writeheader=true)
CSV.write("D:/ConvMultiStage/Input_oos_sc.csv", DataFrame(df_Input), writeheader=true)
CSV.write("D:/ConvMultiStage/Solution_oos_sc.csv", DataFrame(df_Solution), writeheader=true)
print(" Done")

# ggplot(df, es(x=:SimNum,y=:E_DL, colour = :Stage)) +
# geom_point() + facet_grid(R"~Stage")
# ggsave(file="EnergyState.pdf")
# ggplot(df, aes(x=:SimNum,y=:Cost, fill = :Stage)) +
# geom_bar(stat="identity")
# ggsave(file="Cost.pdf")
# ggplot(df, aes(x=:Stage,y=:Deficit, colour = :Stage)) +
# geom_point() + facet_grid(R"~SimNum")
# ggsave(file="NetRegReq.pdf")
# ggplot(df, aes(x=:SimNum,y=:r_DL_ct, colour = :Stage)) +
# geom_point() + facet_grid(R"~Stage")
# ggsave(file="DLCurtailment.pdf")
# ggplot(df, aes(x=:SimNum,y=:r_DL_dn, colour = :Stage)) +
# geom_point() + facet_grid(R"~Stage")
# ggsave(file="DLConsumption.pdf")
